{
 "cells": [
  {
   "cell_type": "code",
   "execution_count": 9,
   "metadata": {},
   "outputs": [
    {
     "name": "stdout",
     "output_type": "stream",
     "text": [
      "[ 1  3  5  7  9 11 13 15 17 19]\n"
     ]
    },
    {
     "data": {
      "text/plain": [
       "40"
      ]
     },
     "execution_count": 9,
     "metadata": {},
     "output_type": "execute_result"
    }
   ],
   "source": [
    "import numpy as np\n",
    "a = np.arange(1,20,2)   \n",
    "print(a) \n",
    "a.shape\n",
    "a.ndim\n",
    "a.itemsize\n",
    "a.size\n",
    "a.dtype\n",
    "a.nbytes"
   ]
  },
  {
   "cell_type": "code",
   "execution_count": 15,
   "metadata": {},
   "outputs": [
    {
     "data": {
      "text/plain": [
       "(5,)"
      ]
     },
     "execution_count": 15,
     "metadata": {},
     "output_type": "execute_result"
    }
   ],
   "source": [
    "import numpy\n",
    "a=numpy.array([1,2,6,8,9])\n",
    "b=numpy.array([8,7,9,5,6])\n",
    "c=a+b\n",
    "type(c)\n",
    "type(\"numpy.ndarray\")\n",
    "c.shape"
   ]
  },
  {
   "cell_type": "code",
   "execution_count": 26,
   "metadata": {},
   "outputs": [
    {
     "name": "stdout",
     "output_type": "stream",
     "text": [
      "[[ 1  5  6  2]\n",
      " [ 8  5  6  2]\n",
      " [ 5  8 15  9]]\n"
     ]
    },
    {
     "data": {
      "text/plain": [
       "(3, 4)"
      ]
     },
     "execution_count": 26,
     "metadata": {},
     "output_type": "execute_result"
    }
   ],
   "source": [
    "import numpy as np\n",
    "l=[[1,5,6,2],[8,5,6,2],[5,8,15,9]]\n",
    "a=np.array(l)\n",
    "print(a)\n",
    "a.shape"
   ]
  },
  {
   "cell_type": "code",
   "execution_count": 35,
   "metadata": {},
   "outputs": [
    {
     "data": {
      "text/plain": [
       "array([[2.+0.j, 5.+0.j, 6.+0.j],\n",
       "       [3.+0.j, 4.+0.j, 9.+0.j],\n",
       "       [9.+0.j, 8.+0.j, 1.+0.j]])"
      ]
     },
     "execution_count": 35,
     "metadata": {},
     "output_type": "execute_result"
    }
   ],
   "source": [
    "import numpy as np\n",
    "M=np.array(([2,5,6],[3,4,9],[9,8,1]),dtype=complex)\n",
    "M"
   ]
  },
  {
   "cell_type": "code",
   "execution_count": 38,
   "metadata": {},
   "outputs": [
    {
     "data": {
      "text/plain": [
       "array([ 9,  9, 15, 13, 15])"
      ]
     },
     "execution_count": 38,
     "metadata": {},
     "output_type": "execute_result"
    }
   ],
   "source": [
    "import numpy\n",
    "a=np.array([1,2,6,8,9])\n",
    "b=np.array([8,7,9,5,6])\n",
    "a+b\n"
   ]
  },
  {
   "cell_type": "code",
   "execution_count": 46,
   "metadata": {},
   "outputs": [
    {
     "name": "stdout",
     "output_type": "stream",
     "text": [
      "[ 8 14 54 40 54]\n",
      "[1 2 6 3 3]\n",
      "[0.125      0.28571429 0.66666667 1.6        1.5       ]\n",
      "[       1      128 10077696    32768   531441]\n"
     ]
    },
    {
     "data": {
      "text/plain": [
       "array([        1,         4,     46656,  16777216, 387420489], dtype=int32)"
      ]
     },
     "execution_count": 46,
     "metadata": {},
     "output_type": "execute_result"
    }
   ],
   "source": [
    "print(a*b)\n",
    "print(a%b)\n",
    "print(a/b)\n",
    "print(a**b)\n",
    "a**a\n"
   ]
  },
  {
   "cell_type": "code",
   "execution_count": 55,
   "metadata": {},
   "outputs": [
    {
     "data": {
      "text/plain": [
       "array([ 9,  9, 15, 13, 15])"
      ]
     },
     "execution_count": 55,
     "metadata": {},
     "output_type": "execute_result"
    }
   ],
   "source": [
    "v=np.add(a,b)\n",
    "v"
   ]
  },
  {
   "cell_type": "code",
   "execution_count": 58,
   "metadata": {},
   "outputs": [
    {
     "data": {
      "text/plain": [
       "array([17, 16, 24, 18, 21])"
      ]
     },
     "execution_count": 58,
     "metadata": {},
     "output_type": "execute_result"
    }
   ],
   "source": [
    "np.add(a,b,a) \n",
    "a"
   ]
  },
  {
   "cell_type": "code",
   "execution_count": 59,
   "metadata": {},
   "outputs": [
    {
     "data": {
      "text/plain": [
       "False"
      ]
     },
     "execution_count": 59,
     "metadata": {},
     "output_type": "execute_result"
    }
   ],
   "source": [
    "np.array_equal(a,b)"
   ]
  },
  {
   "cell_type": "code",
   "execution_count": 6,
   "metadata": {},
   "outputs": [
    {
     "name": "stdout",
     "output_type": "stream",
     "text": [
      "[[1. 2. 6. 8. 9.]]\n",
      "[1. 2. 6. 8. 9.]\n"
     ]
    }
   ],
   "source": [
    "import numpy as np\n",
    "a=np.array([1,2,6,8,9],dtype=np.float64)\n",
    "print(a.reshape(1,-1))\n",
    "print(a.ravel())"
   ]
  },
  {
   "cell_type": "code",
   "execution_count": 11,
   "metadata": {},
   "outputs": [],
   "source": [
    "import numpy as np\n",
    "a = np.array([[1, 2, 3], [4, 5, 6]])\n",
    "x = a.ravel()"
   ]
  },
  {
   "cell_type": "code",
   "execution_count": 13,
   "metadata": {},
   "outputs": [
    {
     "data": {
      "text/plain": [
       "array([[1, 2],\n",
       "       [3, 4],\n",
       "       [5, 6]])"
      ]
     },
     "execution_count": 13,
     "metadata": {},
     "output_type": "execute_result"
    }
   ],
   "source": [
    "# import numpy as np\n",
    "# a=np.array([1, 2, 3, 4, 5, 6])\n",
    "x.reshape(3,2)"
   ]
  },
  {
   "cell_type": "code",
   "execution_count": 3,
   "metadata": {},
   "outputs": [
    {
     "name": "stdout",
     "output_type": "stream",
     "text": [
      "[ 0  1  2  3  4  5  6  7  8  9 10 11]\n"
     ]
    },
    {
     "data": {
      "text/plain": [
       "(3, 4)"
      ]
     },
     "execution_count": 3,
     "metadata": {},
     "output_type": "execute_result"
    }
   ],
   "source": [
    "import numpy as np\n",
    "a=np.arange(12)\n",
    "print(a)\n",
    "b=a\n",
    "b is a\n",
    "b.shape=3,4\n",
    "a.shape"
   ]
  },
  {
   "cell_type": "code",
   "execution_count": 20,
   "metadata": {},
   "outputs": [
    {
     "data": {
      "text/plain": [
       "array([[1, 4, 5, 5, 3],\n",
       "       [9, 8, 7, 8, 6]])"
      ]
     },
     "execution_count": 20,
     "metadata": {},
     "output_type": "execute_result"
    }
   ],
   "source": [
    "b=np.array([[1,4,5,8,6],[9,8,7,5,3]])\n",
    "\n",
    "b=np.sort(b,axis=0)\n",
    "\n",
    "b"
   ]
  },
  {
   "cell_type": "code",
   "execution_count": 26,
   "metadata": {},
   "outputs": [
    {
     "name": "stdout",
     "output_type": "stream",
     "text": [
      "[11 22 18  7  6  1  3  5]\n"
     ]
    },
    {
     "data": {
      "text/plain": [
       "array([ 1,  3,  5,  6,  7, 11, 18, 22])"
      ]
     },
     "execution_count": 26,
     "metadata": {},
     "output_type": "execute_result"
    }
   ],
   "source": [
    "import numpy as np\n",
    "x = np.array([11,22])\n",
    "y = np.array([18,7,6]) \n",
    "z = np.array([1,3,5]) \n",
    "c = np.concatenate((x,y,z))\n",
    "print(c)\n",
    "c=np.sort(c)\n",
    "c"
   ]
  },
  {
   "cell_type": "code",
   "execution_count": 35,
   "metadata": {},
   "outputs": [
    {
     "name": "stdout",
     "output_type": "stream",
     "text": [
      "[0 1 2 3 4]\n"
     ]
    },
    {
     "data": {
      "text/plain": [
       "array([ 0.        ,  0.84147098,  0.90929743,  0.14112001, -0.7568025 ])"
      ]
     },
     "execution_count": 35,
     "metadata": {},
     "output_type": "execute_result"
    }
   ],
   "source": [
    "a = np.arange(5)\n",
    "print(a)\n",
    "np.sin(a) \n",
    "# np.log(a) \n",
    "# np.exp(a) \n",
    "# np.cos(a)"
   ]
  },
  {
   "cell_type": "code",
   "execution_count": 41,
   "metadata": {},
   "outputs": [
    {
     "name": "stdout",
     "output_type": "stream",
     "text": [
      "[[0.96117231 0.99006811]\n",
      " [0.60742257 0.41872345]] [[0.56146546 0.86628286]\n",
      " [0.4827257  0.95356341]]\n",
      "[[0.96117231 0.99006811]\n",
      " [0.60742257 0.41872345]\n",
      " [0.56146546 0.86628286]\n",
      " [0.4827257  0.95356341]]\n",
      "[[[0.96117231 0.99006811]\n",
      "  [0.60742257 0.41872345]]\n",
      "\n",
      " [[0.56146546 0.86628286]\n",
      "  [0.4827257  0.95356341]]]\n"
     ]
    }
   ],
   "source": [
    "import numpy as np\n",
    "a=np.random.random((2,2))\n",
    "b=np.random.random((2,2))\n",
    "print(a,b)\n",
    "p=np.vstack((a,b))\n",
    "z=np.stack((a,b))\n",
    "print(p)\n",
    "\n",
    "print(z)"
   ]
  },
  {
   "cell_type": "code",
   "execution_count": 100,
   "metadata": {},
   "outputs": [
    {
     "name": "stdout",
     "output_type": "stream",
     "text": [
      "[[0.93115267 0.72037517 0.78235441 0.20082485 0.81427278 0.02813114\n",
      "  0.21484166 0.88767079 0.49354578 0.54305715]\n",
      " [0.05638062 0.44495362 0.74863044 0.48846591 0.08173288 0.76989293\n",
      "  0.69643901 0.05861852 0.58787579 0.65025029]\n",
      " [0.14934065 0.97979989 0.36765447 0.34020506 0.75953043 0.21412193\n",
      "  0.32678866 0.59505801 0.15833274 0.95327452]\n",
      " [0.19673059 0.19032813 0.55925774 0.40059718 0.13914887 0.03054057\n",
      "  0.00797158 0.68388129 0.8232049  0.23016199]\n",
      " [0.80018406 0.11123417 0.66469104 0.84878723 0.26856191 0.03827525\n",
      "  0.7206302  0.06530505 0.43952031 0.262395  ]\n",
      " [0.88565067 0.52294014 0.42207717 0.67817114 0.31939505 0.44689757\n",
      "  0.14049522 0.46382235 0.65895819 0.41583185]\n",
      " [0.19361872 0.25217783 0.51819114 0.88181159 0.37375602 0.9744204\n",
      "  0.10247959 0.66763069 0.82895873 0.74772901]\n",
      " [0.23596655 0.75703552 0.57079844 0.87257678 0.77318945 0.07514357\n",
      "  0.92329631 0.98706254 0.86686182 0.83296776]\n",
      " [0.74347519 0.6464151  0.51568539 0.22616109 0.9110265  0.35173348\n",
      "  0.22026637 0.02365824 0.69570307 0.52152449]\n",
      " [0.23284798 0.38177321 0.98916934 0.46336055 0.0669111  0.7450457\n",
      "  0.20294529 0.38411692 0.15897121 0.02647595]]\n",
      "0.9891693372597069\n"
     ]
    },
    {
     "data": {
      "text/plain": [
       "0.00797158369908213"
      ]
     },
     "execution_count": 100,
     "metadata": {},
     "output_type": "execute_result"
    }
   ],
   "source": [
    "import numpy as np\n",
    "a=np.random.random((10,10))\n",
    "print(a)\n",
    "print(a.max())\n",
    "print(a.min())\n",
    "      \n"
   ]
  },
  {
   "cell_type": "code",
   "execution_count": 119,
   "metadata": {},
   "outputs": [
    {
     "name": "stdout",
     "output_type": "stream",
     "text": [
      "[[1. 1. 1. 1. 1.]\n",
      " [1. 1. 1. 1. 1.]\n",
      " [1. 1. 1. 1. 1.]\n",
      " [1. 1. 1. 1. 1.]\n",
      " [1. 1. 1. 1. 1.]]\n"
     ]
    },
    {
     "data": {
      "text/plain": [
       "array([[1., 1., 1., 1., 1.],\n",
       "       [1., 0., 0., 0., 1.],\n",
       "       [1., 0., 0., 0., 1.],\n",
       "       [1., 0., 0., 0., 1.],\n",
       "       [1., 1., 1., 1., 1.]])"
      ]
     },
     "execution_count": 119,
     "metadata": {},
     "output_type": "execute_result"
    }
   ],
   "source": [
    "import numpy as np\n",
    "a=np.ones((5,5))\n",
    "print(a)\n",
    "a[1:-1,1:-1] = 0\n",
    "a"
   ]
  },
  {
   "cell_type": "code",
   "execution_count": 131,
   "metadata": {},
   "outputs": [
    {
     "name": "stdout",
     "output_type": "stream",
     "text": [
      "[0 1 2 3 4 5 6 7 8 9]\n",
      "[9 8 7 6 5 4 3 2 1 0]\n"
     ]
    }
   ],
   "source": [
    "import numpy as np\n",
    "x = np.arange(10)\n",
    "print(x)\n",
    "x = x[::-1]\n",
    "print(x)"
   ]
  },
  {
   "cell_type": "code",
   "execution_count": 130,
   "metadata": {},
   "outputs": [
    {
     "data": {
      "text/plain": [
       "array([[6, 7, 8],\n",
       "       [3, 4, 5],\n",
       "       [0, 1, 2]])"
      ]
     },
     "execution_count": 130,
     "metadata": {},
     "output_type": "execute_result"
    }
   ],
   "source": [
    "a = np.arange(9).reshape(3,3)\n",
    "np.flipud(a)"
   ]
  }
 ],
 "metadata": {
  "kernelspec": {
   "display_name": "Python 3",
   "language": "python",
   "name": "python3"
  },
  "language_info": {
   "codemirror_mode": {
    "name": "ipython",
    "version": 3
   },
   "file_extension": ".py",
   "mimetype": "text/x-python",
   "name": "python",
   "nbconvert_exporter": "python",
   "pygments_lexer": "ipython3",
   "version": "3.6.5"
  }
 },
 "nbformat": 4,
 "nbformat_minor": 2
}
